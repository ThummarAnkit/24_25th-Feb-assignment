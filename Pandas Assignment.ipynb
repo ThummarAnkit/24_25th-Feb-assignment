{
 "cells": [
  {
   "cell_type": "markdown",
   "id": "0bea4a16",
   "metadata": {},
   "source": [
    "# Consider following code to answer further questions:"
   ]
  },
  {
   "cell_type": "code",
   "execution_count": 1,
   "id": "f638ed3d",
   "metadata": {},
   "outputs": [],
   "source": [
    "import pandas as pd\n",
    "course_name = ['Data Science', 'Machine Learning', 'Big Data', 'Data Engineer']\n",
    "duration = [2,3,6,4]\n",
    "df = pd.DataFrame(data = {'course_name' : course_name, 'duration' : duration})"
   ]
  },
  {
   "cell_type": "markdown",
   "id": "39e3ac4e",
   "metadata": {},
   "source": [
    "# Q1. Write a code to print the data present in the second row of the dataframe, df."
   ]
  },
  {
   "cell_type": "code",
   "execution_count": 2,
   "id": "1a485231",
   "metadata": {},
   "outputs": [
    {
     "name": "stdout",
     "output_type": "stream",
     "text": [
      "course_name    Machine Learning\n",
      "duration                      3\n",
      "Name: 1, dtype: object\n"
     ]
    }
   ],
   "source": [
    "import pandas as pd\n",
    "\n",
    "# create the dataframe\n",
    "course_name = ['Data Science', 'Machine Learning', 'Big Data', 'Data Engineer']\n",
    "duration = [2,3,6,4]\n",
    "df = pd.DataFrame(data = {'course_name' : course_name, 'duration' : duration})\n",
    "\n",
    "# print the data present in the second row\n",
    "print(df.iloc[1])"
   ]
  },
  {
   "cell_type": "markdown",
   "id": "07d7ab49",
   "metadata": {},
   "source": [
    "# Q2. What is the difference between the functions loc and iloc in pandas.DataFrame?"
   ]
  },
  {
   "cell_type": "markdown",
   "id": "daf2ada2",
   "metadata": {},
   "source": [
    "__Ans. :__<br>\n",
    "\n",
    "Both __loc__ and __iloc__ are methods of the pandas DataFrame class that are used to select subsets of rows and columns from a DataFrame based on their labels or indices, respectively. However, the main difference between the two methods is the way they use these labels or indices.\n",
    "\n",
    "__loc__ is used to select rows and columns by label-based indexing. This means that you can select rows and columns based on their index labels (i.e., the values of their index or column labels). You can use either a single label or a list of labels to select one or more rows or columns, respectively. For example, you can use __df.loc[2]__ to select the row with the label '2', or __df.loc[:, 'duration']__ to select all rows and the 'duration' column.\n",
    "\n",
    "__iloc__, on the other hand, is used to select rows and columns by integer-based indexing. This means that you can select rows and columns based on their integer index position (i.e., the numerical position of their index or column label). You can use either a single integer or a range of integers to select one or more rows or columns, respectively. For example, you can use __df.iloc[2]__ to select the row with the integer index position 2, or __df.iloc[:, 1]__ to select all rows and the column with integer index position 1."
   ]
  },
  {
   "cell_type": "markdown",
   "id": "e745c427",
   "metadata": {},
   "source": [
    "# Q3. Reindex the given dataframe using a variable, reindex = [3,0,1,2] and store it in the variable, new_df then find the output for both new_df.loc[2] and new_df.iloc[2].\n",
    "\n",
    "## Did you observe any difference in both the outputs? If so then explain it."
   ]
  },
  {
   "cell_type": "code",
   "execution_count": 3,
   "id": "139bb1db",
   "metadata": {},
   "outputs": [
    {
     "name": "stdout",
     "output_type": "stream",
     "text": [
      "course_name    Big Data\n",
      "duration              6\n",
      "Name: 2, dtype: object\n",
      "course_name    Machine Learning\n",
      "duration                      3\n",
      "Name: 1, dtype: object\n"
     ]
    }
   ],
   "source": [
    "import pandas as pd\n",
    "\n",
    "# create the original DataFrame\n",
    "course_name = ['Data Science', 'Machine Learning', 'Big Data', 'Data Engineer']\n",
    "duration = [2,3,6,4]\n",
    "df = pd.DataFrame(data = {'course_name': course_name, 'duration': duration})\n",
    "\n",
    "# create the new index\n",
    "reindex = [3,0,1,2]\n",
    "\n",
    "# reindex the DataFrame\n",
    "new_df = df.reindex(reindex)\n",
    "\n",
    "# print the output of new_df.loc[2] and new_df.iloc[2]\n",
    "print(new_df.loc[2])\n",
    "print(new_df.iloc[2])"
   ]
  },
  {
   "cell_type": "markdown",
   "id": "9925c8ac",
   "metadata": {},
   "source": [
    "__new_df.loc[2]__ returns the row with the label 2 after the DataFrame has been reindexed. In this case, the label 2 corresponds to the row with the original index position 1 (since the reindexing changed the order of the rows). Therefore, the output is the row with the course name 'Big Data' and duration of 6.\n",
    "\n",
    "__new_df.iloc[2]__, on the other hand, returns the row with the integer index position 2 after the DataFrame has been reindexed. In this case, the integer index position 2 corresponds to the row with the original label Big Data (since the reindexing changed the order of the labels). Therefore, the output is the row with the course name 'Machine Learning' and duration of 3."
   ]
  },
  {
   "cell_type": "markdown",
   "id": "7e82416e",
   "metadata": {},
   "source": [
    "# Consider the below code to answer further questions:"
   ]
  },
  {
   "cell_type": "code",
   "execution_count": 4,
   "id": "4d64a837",
   "metadata": {},
   "outputs": [],
   "source": [
    "import pandas as pd\n",
    "import numpy as np\n",
    "columns = ['column_1', 'column_2', 'column_3', 'column_4', 'column_5', 'column_6']\n",
    "indices = [1,2,3,4,5,6]\n",
    "#Creating a dataframe:\n",
    "df1 = pd.DataFrame(np.random.rand(6,6), columns = columns, index = indices)"
   ]
  },
  {
   "cell_type": "markdown",
   "id": "65cbd6fd",
   "metadata": {},
   "source": [
    "# Q4. Write a code to find the following statistical measurements for the above dataframe df1:\n",
    "### (i) mean of each and every column present in the dataframe."
   ]
  },
  {
   "cell_type": "code",
   "execution_count": 5,
   "id": "69f8b269",
   "metadata": {},
   "outputs": [
    {
     "name": "stdout",
     "output_type": "stream",
     "text": [
      "Mean of each column:\n",
      " column_1    0.437330\n",
      "column_2    0.480484\n",
      "column_3    0.288559\n",
      "column_4    0.372039\n",
      "column_5    0.552173\n",
      "column_6    0.459697\n",
      "dtype: float64\n"
     ]
    }
   ],
   "source": [
    "# import the required libraries\n",
    "import pandas as pd\n",
    "import numpy as np\n",
    "\n",
    "# create the DataFrame\n",
    "columns = ['column_1', 'column_2', 'column_3', 'column_4', 'column_5', 'column_6']\n",
    "indices = [1,2,3,4,5,6]\n",
    "df1 = pd.DataFrame(np.random.rand(6,6), columns = columns, index = indices)\n",
    "\n",
    "# calculate the mean of each column\n",
    "means = df1.mean()\n",
    "print(\"Mean of each column:\\n\", means)"
   ]
  },
  {
   "cell_type": "markdown",
   "id": "da9eacd3",
   "metadata": {},
   "source": [
    "### (ii) standard deviation of column, ‘column_2’"
   ]
  },
  {
   "cell_type": "code",
   "execution_count": 6,
   "id": "1f68c15c",
   "metadata": {},
   "outputs": [
    {
     "name": "stdout",
     "output_type": "stream",
     "text": [
      "Standard deviation of column_2: 0.419792195745181\n"
     ]
    }
   ],
   "source": [
    "# calculate the standard deviation of 'column_2'\n",
    "std_column2 = df1['column_2'].std()\n",
    "print(\"Standard deviation of column_2:\", std_column2)"
   ]
  },
  {
   "cell_type": "markdown",
   "id": "000efc6f",
   "metadata": {},
   "source": [
    "# Q5. Replace the data present in the second row of column, ‘column_2’ by a string variable then find the mean of column, column_2. If you are getting errors in executing it then explain why.\n",
    "### [Hint: To replace the data use df1.loc[] and equate this to string data of your choice.]"
   ]
  },
  {
   "cell_type": "code",
   "execution_count": null,
   "id": "b419fa9b",
   "metadata": {},
   "outputs": [],
   "source": [
    "# replace the data in the second row of 'column_2' with a string variable\n",
    "df1.loc[2, 'column_2'] = 'string_data'\n",
    "\n",
    "# calculate the mean of 'column_2'\n",
    "mean_column2 = df1['column_2'].mean()\n",
    "\n",
    "print(\"Mean of column_2:\", mean_column2)"
   ]
  },
  {
   "cell_type": "markdown",
   "id": "ef5f1476",
   "metadata": {},
   "source": [
    "However, the above code will raise a TypeError as the presence of string data in __'column_2'__ will result in an error while computing the mean of that column. This is because __mean()__ method expects numeric values to be present in the column, and cannot calculate the mean of a column with string data."
   ]
  },
  {
   "cell_type": "markdown",
   "id": "b3cf64dd",
   "metadata": {},
   "source": [
    "# Q6. What do you understand about the windows function in pandas and list the types of windows functions?"
   ]
  },
  {
   "cell_type": "markdown",
   "id": "474aeb83",
   "metadata": {},
   "source": [
    "__Ans. :__<br>\n",
    "\n",
    "In pandas, a window function is a function that performs a calculation on a specified subset of a DataFrame or a Series. It enables users to calculate and aggregate data over a moving window of values, such as rolling mean, sum, or standard deviation.\n",
    "\n",
    "There are several types of window functions in pandas, including:\n",
    "\n",
    "__1. Rolling functions:__ These functions compute the specified statistic over a rolling window of data, which can be a fixed number of rows or a fixed time period. Examples of rolling functions include rolling mean, rolling sum, rolling standard deviation, and rolling correlation.\n",
    "\n",
    "__2. Expanding functions:__ These functions calculate the statistic over all data points up to and including the current row. Examples of expanding functions include expanding mean and expanding sum.\n",
    "\n",
    "__3. EWMA (Exponentially Weighted Moving Average) functions:__ These functions compute the exponentially weighted moving average of the data, which gives more weight to recent observations. Examples of EWMA functions include ewmmean, ewmstd, and ewmcorr.\n",
    "\n",
    "__4. Grouped functions:__ These functions operate on a subset of the data defined by one or more grouping keys. Examples of grouped functions include rolling and expanding functions applied to groups defined by a categorical variable.\n",
    "\n",
    "Window functions can be used to gain insights into time series data or other types of data that have a natural ordering. They are also useful for smoothing noisy data or identifying trends in data."
   ]
  },
  {
   "cell_type": "markdown",
   "id": "f417eb1b",
   "metadata": {},
   "source": [
    "# Q7. Write a code to print only the current month and year at the time of answering this question.\n",
    "### [Hint: Use pandas.datetime function]"
   ]
  },
  {
   "cell_type": "code",
   "execution_count": 9,
   "id": "91ab865f",
   "metadata": {},
   "outputs": [
    {
     "name": "stdout",
     "output_type": "stream",
     "text": [
      "February 2023\n"
     ]
    }
   ],
   "source": [
    "import datetime\n",
    "\n",
    "current_month_year = datetime.datetime.now().strftime(\"%B %Y\")\n",
    "print(current_month_year)"
   ]
  },
  {
   "cell_type": "markdown",
   "id": "8f3a8f18",
   "metadata": {},
   "source": [
    "# Q8. Write a Python program that takes in two dates as input (in the format YYYY-MM-DD) and calculates the difference between them in days, hours, and minutes using Pandas time delta. The program should prompt the user to enter the dates and display the result."
   ]
  },
  {
   "cell_type": "code",
   "execution_count": 10,
   "id": "b0d76bba",
   "metadata": {},
   "outputs": [
    {
     "name": "stdout",
     "output_type": "stream",
     "text": [
      "Enter the start date (YYYY-MM-DD): 2003-05-02\n",
      "Enter the end date (YYYY-MM-DD): 2023-02-26\n",
      "The difference between 2003-05-02 00:00:00 and 2023-02-26 00:00:00 is:\n",
      "7240 days, 0 hours, and 0 minutes.\n"
     ]
    }
   ],
   "source": [
    "import pandas as pd\n",
    "\n",
    "# Get the two dates from the user\n",
    "start_date = pd.to_datetime(input(\"Enter the start date (YYYY-MM-DD): \"))\n",
    "end_date = pd.to_datetime(input(\"Enter the end date (YYYY-MM-DD): \"))\n",
    "\n",
    "# Calculate the time delta between the two dates\n",
    "delta = end_date - start_date\n",
    "\n",
    "# Extract the days, hours, and minutes from the time delta\n",
    "days = delta.days\n",
    "hours = delta.seconds // 3600\n",
    "minutes = (delta.seconds % 3600) // 60\n",
    "\n",
    "# Display the result\n",
    "print(f\"The difference between {start_date} and {end_date} is:\")\n",
    "print(f\"{days} days, {hours} hours, and {minutes} minutes.\")"
   ]
  },
  {
   "cell_type": "markdown",
   "id": "b51feedd",
   "metadata": {},
   "source": [
    "# Q9. Write a Python program that reads a CSV file containing categorical data and converts a specified column to a categorical data type. The program should prompt the user to enter the file path, column name, and category order, and then display the sorted data."
   ]
  },
  {
   "cell_type": "code",
   "execution_count": 12,
   "id": "24aecb81",
   "metadata": {},
   "outputs": [
    {
     "name": "stdout",
     "output_type": "stream",
     "text": [
      "Enter the file path: mydata.csv\n",
      "Enter the column name to convert to categorical: color\n",
      "Enter the category order (comma-separated): red,green,blue\n",
      "   id  color\n",
      "0   1    red\n",
      "4   5    red\n",
      "6   7    red\n",
      "1   2  green\n",
      "3   4  green\n",
      "7   8  green\n",
      "2   3   blue\n",
      "5   6   blue\n",
      "8   9   blue\n"
     ]
    }
   ],
   "source": [
    "import pandas as pd\n",
    "\n",
    "# Get the file path and column name from the user\n",
    "file_path = input(\"Enter the file path: \")\n",
    "column_name = input(\"Enter the column name to convert to categorical: \")\n",
    "\n",
    "# Load the CSV file into a DataFrame\n",
    "df = pd.read_csv(file_path)\n",
    "\n",
    "# Get the category order from the user\n",
    "category_order = input(\"Enter the category order (comma-separated): \").split(\",\")\n",
    "\n",
    "# Convert the column to categorical data type with specified order\n",
    "cat_dtype = pd.api.types.CategoricalDtype(categories=category_order, ordered=True)\n",
    "df[column_name] = df[column_name].astype(cat_dtype)\n",
    "\n",
    "# Sort the data based on the specified category order\n",
    "df = df.sort_values(by=column_name)\n",
    "\n",
    "# Display the sorted data\n",
    "print(df)"
   ]
  },
  {
   "cell_type": "markdown",
   "id": "7061a6fe",
   "metadata": {},
   "source": [
    "# Q10. Write a Python program that reads a CSV file containing sales data for different products and visualizes the data using a stacked bar chart to show the sales of each product category over time. The program should prompt the user to enter the file path and display the chart."
   ]
  },
  {
   "cell_type": "code",
   "execution_count": 13,
   "id": "378007fb",
   "metadata": {},
   "outputs": [
    {
     "name": "stdout",
     "output_type": "stream",
     "text": [
      "Enter the file path: sales_data.csv\n"
     ]
    },
    {
     "data": {
      "image/png": "[encoded data removed]",
      "text/plain": [
       "<Figure size 432x288 with 1 Axes>"
      ]
     },
     "metadata": {
      "needs_background": "light"
     },
     "output_type": "display_data"
    }
   ],
   "source": [
    "import pandas as pd\n",
    "import matplotlib.pyplot as plt\n",
    "\n",
    "# Prompt the user to enter the file path\n",
    "file_path = input(\"Enter the file path: \")\n",
    "\n",
    "# Read the CSV file into a Pandas dataframe\n",
    "sales_data = pd.read_csv(file_path)\n",
    "\n",
    "# Convert the date column to a Pandas datetime object\n",
    "sales_data['date'] = pd.to_datetime(sales_data['date'])\n",
    "\n",
    "# Group the data by product category and date, and calculate the total sales\n",
    "grouped_data = sales_data.groupby(['category', 'date'])['sales'].sum().unstack()\n",
    "\n",
    "# Create a stacked bar chart of the sales data\n",
    "grouped_data.plot(kind='bar', stacked=True)\n",
    "\n",
    "# Set the title and axis labels\n",
    "plt.title('Sales by Category over Time')\n",
    "plt.xlabel('Date')\n",
    "plt.ylabel('Sales')\n",
    "\n",
    "# Display the chart\n",
    "plt.show()"
   ]
  },
  {
   "cell_type": "markdown",
   "id": "b9d5e803",
   "metadata": {},
   "source": [
    "# Q11. You are given a CSV file containing student data that includes the student ID and their test score. Write a Python program that reads the CSV file, calculates the mean, median, and mode of the test scores, and displays the results in a table.\n",
    "The program should do the following :\n",
    "* Prompt the user to enter the file path of the CSV file containing the student dataR\n",
    "* Read the CSV file into a Pandas DataFrameR\n",
    "* Calculate the mean, median, and mode of the test scores using Pandas toolsR\n",
    "* Display the mean, median, and mode in a table.\n",
    "\n",
    "Assume the CSV file contains the following columns:<br>\n",
    "* Student ID: The ID of the studentR\n",
    "* Test Score: The score of the student's test.\n",
    "\n",
    "Example usage of the program:<br>\n",
    "Enter the file path of the CSV file containing the student data: student_data.csv<br>\n",
    "\n",
    "+-----------+--------+<br>\n",
    "| Statistic | Value |<br>\n",
    "+-----------+--------+<br>\n",
    "| Mean | 79.6 |<br>\n",
    "| Median | 82 |<br>\n",
    "| Mode | 85, 90 |<br>\n",
    "+-----------+--------+<br>\n",
    "\n",
    "Assume that the CSV file student_data.csv contains the following data:<br>\n",
    "Student ID,Test Score<br>\n",
    "1,85<br>\n",
    "2,90<br>\n",
    "3,80<br>\n",
    "4,75<br>\n",
    "5,85<br>\n",
    "6,82<br>\n",
    "7,78<br>\n",
    "8,85<br>\n",
    "9,90<br>\n",
    "10,85<br>\n",
    "\n",
    "The program should calculate the mean, median, and mode of the test scores and display the results\n",
    "in a table."
   ]
  },
  {
   "cell_type": "code",
   "execution_count": 18,
   "id": "08c176c7",
   "metadata": {},
   "outputs": [
    {
     "name": "stdout",
     "output_type": "stream",
     "text": [
      "Enter the file path: student_data.csv\n",
      "+-----------+-------+\n",
      "| Statistic | Value |\n",
      "+-----------+-------+\n",
      "|    Mean   |  83.5 |\n",
      "|   Median  |   85  |\n",
      "|    Mode   |   85  |\n",
      "+-----------+-------+\n"
     ]
    }
   ],
   "source": [
    "import pandas as pd\n",
    "from prettytable import PrettyTable\n",
    "\n",
    "# Prompt the user to enter the file path\n",
    "file_path = input(\"Enter the file path: \")\n",
    "\n",
    "# Read the CSV file into a Pandas DataFrame\n",
    "df = pd.read_csv(file_path)\n",
    "\n",
    "# Calculate the mean, median, and mode of the test scores\n",
    "mean_score = df['Test Score'].mean()\n",
    "median_score = df['Test Score'].median()\n",
    "mode_score = df['Test Score'].mode()\n",
    "\n",
    "# Create a table with the results\n",
    "table = PrettyTable()\n",
    "table.field_names = ['Statistic', 'Value']\n",
    "table.add_row(['Mean', f'{mean_score:.1f}'])\n",
    "table.add_row(['Median', f'{median_score:.0f}'])\n",
    "table.add_row(['Mode', ', '.join(map(str, mode_score.tolist()))])\n",
    "\n",
    "# Display the table\n",
    "print(table)\n"
   ]
  },
  {
   "cell_type": "code",
   "execution_count": null,
   "id": "a9c290a9",
   "metadata": {},
   "outputs": [],
   "source": []
  }
 ],
 "metadata": {
  "kernelspec": {
   "display_name": "Python 3 (ipykernel)",
   "language": "python",
   "name": "python3"
  },
  "language_info": {
   "codemirror_mode": {
    "name": "ipython",
    "version": 3
   },
   "file_extension": ".py",
   "mimetype": "text/x-python",
   "name": "python",
   "nbconvert_exporter": "python",
   "pygments_lexer": "ipython3",
   "version": "3.9.7"
  }
 },
 "nbformat": 4,
 "nbformat_minor": 5
}
